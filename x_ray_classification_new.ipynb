{
  "nbformat": 4,
  "nbformat_minor": 0,
  "metadata": {
    "colab": {
      "provenance": []
    },
    "kernelspec": {
      "name": "python3",
      "display_name": "Python 3"
    },
    "language_info": {
      "name": "python"
    }
  },
  "cells": [
    {
      "cell_type": "code",
      "execution_count": null,
      "metadata": {
        "id": "PwVy0RR-9261"
      },
      "outputs": [],
      "source": [
        "import numpy as np\n",
        "import pandas as pd\n",
        "import matplotlib.pyplot as plt\n",
        "import pathlib\n",
        "import os\n",
        "import glob as gb\n",
        "import cv2\n",
        "import PIL   #pillow\n",
        "#pip install pillow"
      ]
    },
    {
      "cell_type": "code",
      "source": [
        "#data path\n",
        "trainpath = 'Chest_XRAY_Disease_dataSet/Train/'\n",
        "testpath = 'Chest_XRAY_Disease_dataSet/Test/'\n",
        "Valpath = 'Chest_XRAY_Disease_dataSet/validation/'"
      ],
      "metadata": {
        "id": "yiualzR6-zdW"
      },
      "execution_count": null,
      "outputs": []
    },
    {
      "cell_type": "code",
      "source": [
        "os.listdir(Valpath)"
      ],
      "metadata": {
        "id": "vex_6sJR2PIo"
      },
      "execution_count": null,
      "outputs": []
    },
    {
      "cell_type": "code",
      "source": [
        "os.listdir(trainpath)"
      ],
      "metadata": {
        "id": "NXWmHqhG2UNm"
      },
      "execution_count": null,
      "outputs": []
    },
    {
      "cell_type": "code",
      "source": [
        "os.listdir(testpath)"
      ],
      "metadata": {
        "id": "c1LU6M-L2UY2"
      },
      "execution_count": null,
      "outputs": []
    },
    {
      "cell_type": "code",
      "source": [
        "for folder in os.listdir(trainpath):\n",
        "    print (folder)\n",
        "    files = gb.glob(pathname= trainpath  + folder + '/*.png')\n",
        "    print(folder)\n",
        "    img=cv2.imread(files[:5])\n",
        "    plt.imshow(img)\n",
        "    plt.show()\n",
        "    print(\"--------------------------------------------\")\n"
      ],
      "metadata": {
        "id": "e_J7IiLm4S3f"
      },
      "execution_count": null,
      "outputs": []
    },
    {
      "cell_type": "code",
      "source": [
        "Folder_name=[]\n",
        "folder_item_numbers = []\n",
        "for folder in os.listdir(trainpath):\n",
        "    Folder_name.append(folder)\n",
        "    folder_item_numbers.append(len(files))\n",
        "foldernames=pd.DataFrame({'Folder_name':Folder_name})\n",
        "itemnumbers=pd.DataFrame({'Traning Image Numbers':folder_item_numbers})\n",
        "informations=pd.concat([foldernames,itemnumbers],axis=1)\n",
        "print(informations)"
      ],
      "metadata": {
        "id": "HKRhngnakBcb"
      },
      "execution_count": null,
      "outputs": []
    },
    {
      "cell_type": "code",
      "source": [
        "Folder_name=[]\n",
        "folder_item_numbers = []\n",
        "for folder in  os.listdir(testpath ) : \n",
        "    files = gb.glob(pathname= str( testpath  + folder + '/*.png'))\n",
        "    Folder_name.append(folder)\n",
        "    folder_item_numbers.append(len(files))\n",
        "foldernames=pd.DataFrame({'Folder_name':Folder_name})\n",
        "itemnumbers=pd.DataFrame({'Traning Image Numbers':folder_item_numbers})\n",
        "informations=pd.concat([foldernames,itemnumbers],axis=1)\n",
        "print(informations)"
      ],
      "metadata": {
        "id": "HH_cDwQAkehr"
      },
      "execution_count": null,
      "outputs": []
    },
    {
      "cell_type": "code",
      "source": [
        "Folder_name=[]\n",
        "folder_item_numbers = []\n",
        "for folder in  os.listdir(Valpath ) : \n",
        "    files = gb.glob(pathname= str( Valpath  + folder + '/*.png'))\n",
        "    Folder_name.append(folder)\n",
        "    folder_item_numbers.append(len(files))\n",
        "foldernames=pd.DataFrame({'Folder_name':Folder_name})\n",
        "itemnumbers=pd.DataFrame({'Traning Image Numbers':folder_item_numbers})\n",
        "informations=pd.concat([foldernames,itemnumbers],axis=1)\n",
        "print(informations)"
      ],
      "metadata": {
        "id": "Pi-m-gfKkjDS"
      },
      "execution_count": null,
      "outputs": []
    },
    {
      "cell_type": "code",
      "source": [
        "#loading data and resize it and collect it in one folder\n",
        "new_size=224    \n",
        "X_train = []\n",
        "y_train = []\n",
        "for folder in  os.listdir(trainpath) : \n",
        "    print( 'folder name is : ', folder)\n",
        "    files = gb.glob(pathname= str( trainpath  + folder + '/*.png'))\n",
        "    print( 'numbers of images in folder are : ', len(files))\n",
        "    print(' start reading images')\n",
        "    for file in files: \n",
        "        image_class = {'Covid_19_Disease': 0, 'No_Disease': 1,'Pneumonia_Disease': 2 ,'Pneumothorax_Disease': 3 ,'Tuberculosis_Disease': 4 }\n",
        "        orignal_image = cv2.imread(file)\n",
        "        image = cv2.cvtColor(orignal_image, cv2.COLOR_BGR2RGB)\n",
        "        #image = cv2.cvtColor(image, cv2.COLOR_BGR2GRAY)\n",
        "        resized_image = cv2.resize(image , (new_size,new_size))\n",
        "        X_train.append(resized_image)\n",
        "        y_train.append(image_class[folder])\n",
        "    print('image reading ...finished')\n",
        "print('--------------------------------------------------')        \n",
        "#check items in X_test\n",
        "print(\"items in X_train is:       \",len(X_train) , \" items\") \n",
        "print(\"items in y_train is:       \",len(y_train) , \" items\") "
      ],
      "metadata": {
        "id": "h_gs2rrNktPp"
      },
      "execution_count": null,
      "outputs": []
    },
    {
      "cell_type": "code",
      "source": [
        "\n"
      ],
      "metadata": {
        "id": "HjkkNJH6jbJ1"
      },
      "execution_count": null,
      "outputs": []
    }
  ]
}